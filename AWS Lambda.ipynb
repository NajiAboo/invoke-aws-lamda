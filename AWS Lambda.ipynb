{
 "cells": [
  {
   "cell_type": "markdown",
   "id": "e3ca7bfa",
   "metadata": {},
   "source": [
    "# install boto3\n",
    "\n",
    "## !conda install -c anaconda boto3\n",
    "## !pip install boto3"
   ]
  },
  {
   "cell_type": "code",
   "execution_count": 1,
   "id": "6c26cf32",
   "metadata": {},
   "outputs": [],
   "source": [
    "import boto3, json"
   ]
  },
  {
   "cell_type": "code",
   "execution_count": null,
   "id": "f58b60b0",
   "metadata": {},
   "outputs": [],
   "source": []
  },
  {
   "cell_type": "markdown",
   "id": "3c63332a",
   "metadata": {},
   "source": [
    "## Create a user with lambda access"
   ]
  },
  {
   "cell_type": "code",
   "execution_count": 18,
   "id": "22557f8f",
   "metadata": {},
   "outputs": [],
   "source": [
    "ACCESS_ID =\"\""
   ]
  },
  {
   "cell_type": "code",
   "execution_count": 19,
   "id": "dc9a2c29",
   "metadata": {},
   "outputs": [],
   "source": [
    "ACCESS_KEY = \"\""
   ]
  },
  {
   "cell_type": "code",
   "execution_count": 11,
   "id": "7379df84",
   "metadata": {},
   "outputs": [],
   "source": [
    "lambda_client = boto3.client('lambda','us-west-2',aws_access_key_id = ACCESS_ID, aws_secret_access_key = ACCESS_KEY )"
   ]
  },
  {
   "cell_type": "code",
   "execution_count": 12,
   "id": "bfff5a11",
   "metadata": {},
   "outputs": [],
   "source": [
    "test_event = dict()"
   ]
  },
  {
   "cell_type": "code",
   "execution_count": 13,
   "id": "85d235e0",
   "metadata": {},
   "outputs": [],
   "source": [
    "response = lambda_client.invoke(\n",
    "        FunctionName=\"GetDemoHelloWorld\",\n",
    "        Payload = json.dumps(test_event)\n",
    ")"
   ]
  },
  {
   "cell_type": "code",
   "execution_count": 14,
   "id": "d90d0f3d",
   "metadata": {},
   "outputs": [
    {
     "name": "stdout",
     "output_type": "stream",
     "text": [
      "<botocore.response.StreamingBody object at 0x7fe63e5558b0>\n"
     ]
    }
   ],
   "source": [
    "print(response['Payload'])"
   ]
  },
  {
   "cell_type": "code",
   "execution_count": 15,
   "id": "fe9c503c",
   "metadata": {},
   "outputs": [
    {
     "name": "stdout",
     "output_type": "stream",
     "text": [
      "{\"statusCode\": 200, \"body\": \"\\\"Hello from Lambda!\\\"\"}\n"
     ]
    }
   ],
   "source": [
    "print(response['Payload'].read().decode(\"utf-8\"))"
   ]
  },
  {
   "cell_type": "code",
   "execution_count": null,
   "id": "7209e8c5",
   "metadata": {},
   "outputs": [],
   "source": []
  },
  {
   "cell_type": "code",
   "execution_count": null,
   "id": "fe575dbb",
   "metadata": {},
   "outputs": [],
   "source": []
  },
  {
   "cell_type": "code",
   "execution_count": null,
   "id": "ff8121a2",
   "metadata": {},
   "outputs": [],
   "source": []
  },
  {
   "cell_type": "code",
   "execution_count": null,
   "id": "4182cffa",
   "metadata": {},
   "outputs": [],
   "source": []
  },
  {
   "cell_type": "code",
   "execution_count": null,
   "id": "0ea007b7",
   "metadata": {},
   "outputs": [],
   "source": []
  }
 ],
 "metadata": {
  "kernelspec": {
   "display_name": "Python 3 (ipykernel)",
   "language": "python",
   "name": "python3"
  },
  "language_info": {
   "codemirror_mode": {
    "name": "ipython",
    "version": 3
   },
   "file_extension": ".py",
   "mimetype": "text/x-python",
   "name": "python",
   "nbconvert_exporter": "python",
   "pygments_lexer": "ipython3",
   "version": "3.8.13"
  }
 },
 "nbformat": 4,
 "nbformat_minor": 5
}
